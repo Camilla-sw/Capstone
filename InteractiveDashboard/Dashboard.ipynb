{
 "cells": [
  {
   "cell_type": "markdown",
   "id": "17eb02fd",
   "metadata": {},
   "source": [
    "# Build Interactive Dashboard for Launch Data\n"
   ]
  },
  {
   "cell_type": "markdown",
   "id": "51728073",
   "metadata": {},
   "source": [
    "This notebook builds a Plotly Dash application for users to perform interactive visual analytics on SpaceX launch data in\n",
    "real-time."
   ]
  },
  {
   "cell_type": "markdown",
   "id": "08c95c40-d503-4309-83ed-57dfa59b4aab",
   "metadata": {},
   "source": [
    "**Contents:**  \n",
    "- Drop-down for user input for Launch Site\n",
    "- Pie-chart based on dropdown selection\n",
    "- Range Slider for user input for Payload Mass\n",
    "- Scatterplot based on Payload selection"
   ]
  },
  {
   "cell_type": "markdown",
   "id": "a42ee230",
   "metadata": {},
   "source": [
    "#### Install packages; import libraries"
   ]
  },
  {
   "cell_type": "code",
   "execution_count": 1,
   "id": "b28fc435",
   "metadata": {
    "tags": []
   },
   "outputs": [
    {
     "name": "stdout",
     "output_type": "stream",
     "text": [
      "Requirement already satisfied: pandas in c:\\users\\shanx\\anaconda3\\lib\\site-packages (2.2.2)\n",
      "Requirement already satisfied: dash in c:\\users\\shanx\\anaconda3\\lib\\site-packages (2.17.0)\n",
      "Requirement already satisfied: numpy>=1.23.2 in c:\\users\\shanx\\anaconda3\\lib\\site-packages (from pandas) (1.26.4)\n",
      "Requirement already satisfied: python-dateutil>=2.8.2 in c:\\users\\shanx\\anaconda3\\lib\\site-packages (from pandas) (2.8.2)\n",
      "Requirement already satisfied: pytz>=2020.1 in c:\\users\\shanx\\anaconda3\\lib\\site-packages (from pandas) (2023.3.post1)\n",
      "Requirement already satisfied: tzdata>=2022.7 in c:\\users\\shanx\\anaconda3\\lib\\site-packages (from pandas) (2023.3)\n",
      "Requirement already satisfied: Flask<3.1,>=1.0.4 in c:\\users\\shanx\\anaconda3\\lib\\site-packages (from dash) (2.2.5)\n",
      "Requirement already satisfied: Werkzeug<3.1 in c:\\users\\shanx\\anaconda3\\lib\\site-packages (from dash) (2.2.3)\n",
      "Requirement already satisfied: plotly>=5.0.0 in c:\\users\\shanx\\anaconda3\\lib\\site-packages (from dash) (5.9.0)\n",
      "Requirement already satisfied: dash-html-components==2.0.0 in c:\\users\\shanx\\anaconda3\\lib\\site-packages (from dash) (2.0.0)\n",
      "Requirement already satisfied: dash-core-components==2.0.0 in c:\\users\\shanx\\anaconda3\\lib\\site-packages (from dash) (2.0.0)\n",
      "Requirement already satisfied: dash-table==5.0.0 in c:\\users\\shanx\\anaconda3\\lib\\site-packages (from dash) (5.0.0)\n",
      "Requirement already satisfied: importlib-metadata in c:\\users\\shanx\\anaconda3\\lib\\site-packages (from dash) (7.0.1)\n",
      "Requirement already satisfied: typing-extensions>=4.1.1 in c:\\users\\shanx\\anaconda3\\lib\\site-packages (from dash) (4.9.0)\n",
      "Requirement already satisfied: requests in c:\\users\\shanx\\anaconda3\\lib\\site-packages (from dash) (2.31.0)\n",
      "Requirement already satisfied: retrying in c:\\users\\shanx\\anaconda3\\lib\\site-packages (from dash) (1.3.4)\n",
      "Requirement already satisfied: nest-asyncio in c:\\users\\shanx\\anaconda3\\lib\\site-packages (from dash) (1.6.0)\n",
      "Requirement already satisfied: setuptools in c:\\users\\shanx\\anaconda3\\lib\\site-packages (from dash) (68.2.2)\n",
      "Requirement already satisfied: Jinja2>=3.0 in c:\\users\\shanx\\anaconda3\\lib\\site-packages (from Flask<3.1,>=1.0.4->dash) (3.1.3)\n",
      "Requirement already satisfied: itsdangerous>=2.0 in c:\\users\\shanx\\anaconda3\\lib\\site-packages (from Flask<3.1,>=1.0.4->dash) (2.0.1)\n",
      "Requirement already satisfied: click>=8.0 in c:\\users\\shanx\\anaconda3\\lib\\site-packages (from Flask<3.1,>=1.0.4->dash) (8.1.7)\n",
      "Requirement already satisfied: tenacity>=6.2.0 in c:\\users\\shanx\\anaconda3\\lib\\site-packages (from plotly>=5.0.0->dash) (8.2.2)\n",
      "Requirement already satisfied: six>=1.5 in c:\\users\\shanx\\anaconda3\\lib\\site-packages (from python-dateutil>=2.8.2->pandas) (1.16.0)\n",
      "Requirement already satisfied: MarkupSafe>=2.1.1 in c:\\users\\shanx\\anaconda3\\lib\\site-packages (from Werkzeug<3.1->dash) (2.1.3)\n",
      "Requirement already satisfied: zipp>=0.5 in c:\\users\\shanx\\anaconda3\\lib\\site-packages (from importlib-metadata->dash) (3.17.0)\n",
      "Requirement already satisfied: charset-normalizer<4,>=2 in c:\\users\\shanx\\anaconda3\\lib\\site-packages (from requests->dash) (2.0.4)\n",
      "Requirement already satisfied: idna<4,>=2.5 in c:\\users\\shanx\\anaconda3\\lib\\site-packages (from requests->dash) (3.4)\n",
      "Requirement already satisfied: urllib3<3,>=1.21.1 in c:\\users\\shanx\\anaconda3\\lib\\site-packages (from requests->dash) (2.0.7)\n",
      "Requirement already satisfied: certifi>=2017.4.17 in c:\\users\\shanx\\anaconda3\\lib\\site-packages (from requests->dash) (2024.2.2)\n",
      "Requirement already satisfied: colorama in c:\\users\\shanx\\anaconda3\\lib\\site-packages (from click>=8.0->Flask<3.1,>=1.0.4->dash) (0.4.6)\n",
      "Requirement already satisfied: wget in c:\\users\\shanx\\anaconda3\\lib\\site-packages (3.2)\n"
     ]
    }
   ],
   "source": [
    "!pip3 install pandas dash\n",
    "!pip3 install wget"
   ]
  },
  {
   "cell_type": "code",
   "execution_count": 3,
   "id": "e46c76d2-4f44-4595-bbda-814ccf4ab4da",
   "metadata": {
    "tags": []
   },
   "outputs": [],
   "source": [
    "import wget\n",
    "import pandas as pd\n",
    "\n",
    "import dash\n",
    "from dash import html\n",
    "from dash import dcc\n",
    "from dash.dependencies import Input, Output\n",
    "from dash import callback\n",
    "import plotly.express as px"
   ]
  },
  {
   "cell_type": "markdown",
   "id": "e8364d8e",
   "metadata": {},
   "source": [
    "#### **Fetch User Input Parameters**\n",
    "- Extract list of launch sites for dropdown menu\n",
    "- Get range of payload mass for slider "
   ]
  },
  {
   "cell_type": "code",
   "execution_count": 6,
   "id": "83ee10f6",
   "metadata": {},
   "outputs": [
    {
     "data": {
      "text/plain": [
       "(56, 7)"
      ]
     },
     "execution_count": 6,
     "metadata": {},
     "output_type": "execute_result"
    }
   ],
   "source": [
    "# SpaceX Launch dataset\n",
    "spacex_csv_file = wget.download('https://cf-courses-data.s3.us.cloud-object-storage.appdomain.cloud/IBM-DS0321EN-SkillsNetwork/datasets/spacex_launch_dash.csv')\n",
    "spacex_df=pd.read_csv(spacex_csv_file)\n",
    "spacex_df.shape\n",
    "#"
   ]
  },
  {
   "cell_type": "code",
   "execution_count": 8,
   "id": "ac4551c1",
   "metadata": {},
   "outputs": [
    {
     "data": {
      "text/plain": [
       "list"
      ]
     },
     "execution_count": 8,
     "metadata": {},
     "output_type": "execute_result"
    }
   ],
   "source": [
    "# get list of launch sites\n",
    "\n",
    "launch_sites_df = spacex_df.groupby(['Launch Site'], as_index=False).first()\n",
    "sites = list(launch_sites_df['Launch Site'])\n",
    "allsites =['All Sites']\n",
    "sites_opt = allsites + sites\n",
    "type(sites_opt)"
   ]
  },
  {
   "cell_type": "code",
   "execution_count": 10,
   "id": "eebe2c39-081a-4649-8785-0e10f1f6608c",
   "metadata": {
    "tags": []
   },
   "outputs": [],
   "source": [
    "# Get range of payload mass\n",
    "\n",
    "max_payload = spacex_df['Payload Mass (kg)'].max()\n",
    "min_payload = spacex_df['Payload Mass (kg)'].min()"
   ]
  },
  {
   "cell_type": "markdown",
   "id": "c642bba4-35ae-4a0d-bac7-f3862ca3f4d9",
   "metadata": {},
   "source": [
    "### **Creating Dashboard**"
   ]
  },
  {
   "cell_type": "code",
   "execution_count": 17,
   "id": "ba2dfca7",
   "metadata": {},
   "outputs": [
    {
     "data": {
      "text/html": [
       "\n",
       "        <iframe\n",
       "            width=\"100%\"\n",
       "            height=\"650\"\n",
       "            src=\"http://127.0.0.1:2223/\"\n",
       "            frameborder=\"0\"\n",
       "            allowfullscreen\n",
       "            \n",
       "        ></iframe>\n",
       "        "
      ],
      "text/plain": [
       "<IPython.lib.display.IFrame at 0x16e5dcbe4d0>"
      ]
     },
     "metadata": {},
     "output_type": "display_data"
    }
   ],
   "source": [
    "# Create a dash application\n",
    "app = dash.Dash(__name__)\n",
    "\n",
    "# Create an app layout\n",
    "app.layout = html.Div(children=[html.H1('SpaceX Launch Records Dashboard',\n",
    "                                        style={'textAlign': 'center', 'color': '#503D36',\n",
    "                                               'font-size': 40}),\n",
    "                                # Add a dropdown list to enable Launch Site selection\n",
    "                                # The default select value is for ALL sites\n",
    "                                # dcc.Dropdown(id='site-dropdown',...)\n",
    "                                html.Div([\n",
    "                                        # Create an division for adding dropdown helper text for report type\n",
    "                                        html.Div(\n",
    "                                                  [\n",
    "                                                  html.H2('Launch Site:', style={'margin-right': '2em'}),\n",
    "                                                  ]\n",
    "                                                ),\n",
    "                                        # Add a dropdown\n",
    "                                        dcc.Dropdown(id='site-dropdown', \n",
    "                                                     options = sites_opt, \n",
    "                                                     placeholder='All Sites',\n",
    "                                                     style={'textAlign': 'center', 'color': '#000000', 'font-size': 20, 'width':'80%', 'padding':'3px'}\n",
    "                                                     )\n",
    "                                            ], style={'display':'flex'}),\n",
    "\n",
    "                                html.Br(),\n",
    "\n",
    "                                # Add a pie chart to show the total successful launches count for all sites\n",
    "                                # If a specific launch site was selected, show the Success vs. Failed counts for the site\n",
    "                                html.Div(dcc.Graph(id='success-pie-chart')),\n",
    "                                html.Br(),\n",
    "\n",
    "                                html.P(\"Payload range (Kg):\"),\n",
    "                                # Add a slider to select payload range\n",
    "                                #dcc.RangeSlider(id='payload-slider',...)\n",
    "                                dcc.RangeSlider(id='payload-slider', min=0, max=10000, step=1000, \n",
    "                                                marks={0: '0', 2500: '2500', 5000: '5000', \n",
    "                                                       7500: '7500', 10000: '10000'}, value=[min_payload, max_payload]),\n",
    "                                \n",
    "                                # Add a scatter chart to show the correlation between payload and launch success\n",
    "                                html.Div(dcc.Graph(id='success-payload-scatter-chart')),\n",
    "                                ])\n",
    "\n",
    "\n",
    "# Add a callback function for `site-dropdown` as input, `success-pie-chart` as output\n",
    "\n",
    "# Function decorator to specify function input and output\n",
    "@app.callback(Output(component_id='success-pie-chart', component_property='figure'),\n",
    "              Input(component_id='site-dropdown', component_property='value'))\n",
    "def get_pie_chart(entered_site):\n",
    "    d = spacex_df\n",
    "    if entered_site == 'All Sites':\n",
    "        fig = px.pie(d, values='class', names='Launch Site', title='Total Number of Successful Launches for All Sites')\n",
    "        fig.update_traces(textinfo='value') # shows counts instead of percentages\n",
    "        return fig\n",
    "    else:\n",
    "        # return the outcomes piechart for a selected site\n",
    "        data = d[d['Launch Site'] == entered_site]\n",
    "        ttl = 'Launch Outcome for Selected Site'\n",
    "        fig = px.pie(data, \n",
    "                     #values= 'class', \n",
    "                     names='class', \n",
    "                     # labels={0: \"Gender\", 1: \"Smokes\"}, # cannot make this work\n",
    "                     title= ttl)\n",
    "        # fig.update_traces(textinfo='value')\n",
    "        return fig\n",
    "\n",
    "    \n",
    "\n",
    "# Add a callback function for `site-dropdown` and `payload-slider` as inputs, `success-payload-scatter-chart` as output    \n",
    "@app.callback(Output(component_id='success-payload-scatter-chart', component_property='figure'),\n",
    "              [Input(component_id='site-dropdown', component_property='value'),\n",
    "               Input(component_id='payload-slider', component_property='value')])\n",
    "\n",
    "\n",
    "def get_scatterchart(entered_site, sldr_payload):\n",
    "    d = spacex_df\n",
    "    if entered_site == 'All Sites':\n",
    "        drange = d[(d['Payload Mass (kg)']>=sldr_payload[0])\n",
    "        &(d['Payload Mass (kg)']<=sldr_payload[1])]\n",
    "        fig = px.scatter(drange, x=\"Payload Mass (kg)\", y=\"class\", color=\"Booster Version Category\")\n",
    "        return fig\n",
    "        # If ALL sites are selected, render a scatter plot to display all values for variable Payload Mass (kg) \n",
    "        # and variable class. In addition, the point color needs to be set to the booster version \n",
    "        # i.e., color=\"Booster Version Category\"\n",
    "    else:\n",
    "        data = d[(d['Launch Site'] == entered_site)]\n",
    "        filtered_data = data[(data['Payload Mass (kg)']>=sldr_payload[0])\n",
    "        &(data['Payload Mass (kg)']<=sldr_payload[1])]\n",
    "            #sx -- filter data with payload slider!\n",
    "            #sx -- sldr_payload is a list with two components: min and max\n",
    "        ttl = 'ttitle'\n",
    "        fig = px.scatter(filtered_data, x=\"Payload Mass (kg)\", y=\"class\", color=\"Booster Version Category\")\n",
    "        return fig\n",
    "        # If a specific launch site is selected, you need to filter the spacex_df first, \n",
    "        # and render a scatter chart to show values Payload Mass (kg) and class for the selected site, \n",
    "        # and color-label the point using Boosster Version Category likewise.\n",
    "        \n",
    "    \n",
    "# Run the app\n",
    "if __name__ == '__main__':\n",
    "    app.run_server(port=2223)"
   ]
  },
  {
   "cell_type": "markdown",
   "id": "43ac737b",
   "metadata": {},
   "source": [
    "#### **Insights from Dashboard**"
   ]
  },
  {
   "cell_type": "markdown",
   "id": "f6f596d4-db11-4e25-afdb-d77bba10fadf",
   "metadata": {
    "tags": []
   },
   "source": [
    "From piechart:   \n",
    "- Site KSC LC-39A has the greatest number of successes at 41.7%.\n",
    "- Site CCAFS SLC-40 has the lowest number of success at 12.5% of total number of successful outcomes.\n",
    "- Site KSC LC-39A has highest ratio of successes at 76.9%.\n",
    "\n",
    "\n",
    "From payload scatterplot:    \n",
    "- Launches with payload between 3000 and 5000 have the highest rate of success. \n",
    "- Payload higher than 5500 is associated with the lowest likelihood of success.\n",
    "- Launches with booster version FT is the most likely to succeed (2 out of 3 launches are successful).\n",
    "- Booster versions v1.0 are v1.1 rarely had any success. While success rate for B4 version launches are about 50%."
   ]
  },
  {
   "cell_type": "markdown",
   "id": "3fb5cb82",
   "metadata": {},
   "source": [
    "#### Plotly Dash Reference"
   ]
  },
  {
   "cell_type": "markdown",
   "id": "4040a2b2",
   "metadata": {},
   "source": [
    "Dropdown (input) component\n",
    "Refer [here](https://dash.plotly.com/dash-core-components/dropdown?utm_medium=Exinfluencer&utm_source=Exinfluencer&utm_content=000026UJ&utm_term=10006555&utm_id=NA-SkillsNetwork-Channel-SkillsNetworkCoursesIBMDS0321ENSkillsNetwork865-2023-01-01) for more details about dcc.Dropdown()\n",
    "\n",
    "Range slider (input) component\n",
    "Refer [here](https://dash.plotly.com/dash-core-components/rangeslider?utm_medium=Exinfluencer&utm_source=Exinfluencer&utm_content=000026UJ&utm_term=10006555&utm_id=NA-SkillsNetwork-Channel-SkillsNetworkCoursesIBMDS0321ENSkillsNetwork865-2023-01-01)] for more details about dcc.RangeSlider()\n",
    "\n",
    "Pie chart (output) component\n",
    "Refer [here](https://plotly.com/python/pie-charts/?utm_medium=Exinfluencer&utm_source=Exinfluencer&utm_content=000026UJ&utm_term=10006555&utm_id=NA-SkillsNetwork-Channel-SkillsNetworkCoursesIBMDS0321ENSkillsNetwork865-2023-01-01) for more details about plotly pie charts\n",
    "\n",
    "Scatter chart (output) component\n",
    "Refer [here](https://plotly.com/python/line-and-scatter/?utm_medium=Exinfluencer&utm_source=Exinfluencer&utm_content=000026UJ&utm_term=10006555&utm_id=NA-SkillsNetwork-Channel-SkillsNetworkCoursesIBMDS0321ENSkillsNetwork865-2023-01-01) for more details about plotly scatter charts"
   ]
  }
 ],
 "metadata": {
  "kernelspec": {
   "display_name": "Python 3 (ipykernel)",
   "language": "python",
   "name": "python3"
  },
  "language_info": {
   "codemirror_mode": {
    "name": "ipython",
    "version": 3
   },
   "file_extension": ".py",
   "mimetype": "text/x-python",
   "name": "python",
   "nbconvert_exporter": "python",
   "pygments_lexer": "ipython3",
   "version": "3.11.7"
  }
 },
 "nbformat": 4,
 "nbformat_minor": 5
}
