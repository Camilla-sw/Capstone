{
 "cells": [
  {
   "cell_type": "code",
   "execution_count": null,
   "id": "e974d84c",
   "metadata": {},
   "outputs": [],
   "source": [
    "import seaborn as sns\n",
    "import pandas as pd\n",
    "import matplotlib.pyplot as plt\n",
    "\n",
    "# Load Titanic dataset\n",
    "titanic_data = sns.load_dataset(\"titanic\")"
   ]
  },
  {
   "cell_type": "code",
   "execution_count": null,
   "id": "344542c3",
   "metadata": {},
   "outputs": [],
   "source": [
    "# Calculate survival counts\n",
    "survival_counts = titanic_data['survived'].value_counts()\n",
    "\n",
    "# Create a DataFrame for the survival counts\n",
    "survival_table = pd.DataFrame({\n",
    "    'Survival': ['No', 'Yes'],\n",
    "    'Count': survival_counts.values\n",
    "})\n",
    "\n",
    "print(survival_table)"
   ]
  },
  {
   "cell_type": "code",
   "execution_count": null,
   "id": "38d2016d",
   "metadata": {},
   "outputs": [],
   "source": [
    "# Age distribution of passengers\n",
    "plt.figure(figsize=(8, 6))\n",
    "sns.histplot(titanic_data['age'].dropna(), bins=20, kde=True)\n",
    "plt.title('Age Distribution of Passengers')\n",
    "plt.xlabel('Age')\n",
    "plt.ylabel('Count')\n",
    "plt.show()"
   ]
  }
 ],
 "metadata": {
  "kernelspec": {
   "display_name": "Python 3 (ipykernel)",
   "language": "python",
   "name": "python3"
  },
  "language_info": {
   "codemirror_mode": {
    "name": "ipython",
    "version": 3
   },
   "file_extension": ".py",
   "mimetype": "text/x-python",
   "name": "python",
   "nbconvert_exporter": "python",
   "pygments_lexer": "ipython3",
   "version": "3.11.7"
  }
 },
 "nbformat": 4,
 "nbformat_minor": 5
}
